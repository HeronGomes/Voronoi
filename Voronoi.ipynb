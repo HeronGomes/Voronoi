{
 "cells": [
  {
   "cell_type": "code",
   "execution_count": 43,
   "id": "1209e181",
   "metadata": {},
   "outputs": [],
   "source": [
    "import cv2 as cv\n",
    "import numpy as np"
   ]
  },
  {
   "cell_type": "code",
   "execution_count": 69,
   "id": "2b282024",
   "metadata": {},
   "outputs": [],
   "source": [
    "imagem_original = cv.imread('EU.JPG')\n",
    "#imagem_original = cv.resize(imagem_original,(768,1024))\n",
    "imagem_cinza = cv.cvtColor(imagem_original,cv.COLOR_BGR2GRAY)\n",
    "points = []\n",
    "size = imagem_original.shape\n",
    "rect = (0,0,size[1],size[0])"
   ]
  },
  {
   "cell_type": "code",
   "execution_count": 70,
   "id": "63ecdb65",
   "metadata": {},
   "outputs": [],
   "source": [
    "def rect_contains(rect, point) :\n",
    "    if point[0] < rect[0] :\n",
    "        return False\n",
    "    elif point[1] < rect[1] :\n",
    "        return False\n",
    "    elif point[0] > rect[2] :\n",
    "        return False\n",
    "    elif point[1] > rect[3] :\n",
    "        return False\n",
    "    return True   \n",
    "\n",
    "def draw_cricle(event,x,y,flags,param):\n",
    "    global points\n",
    "    if event == cv.EVENT_LBUTTONDBLCLK:\n",
    "        cv.circle(imagem_original,(x,y),1,(255,0,0),-1)\n",
    "        cv.imshow('ROI',imagem_original)\n",
    "        mousex,mousey = x,y\n",
    "        points.append((mousex,mousey))\n",
    "        \n",
    "def draw_triangles(img,subdiv): #Delaunay Triangulation\n",
    "    \n",
    "    lst_triangulos = subdiv.getTriangleList()\n",
    "    \n",
    "    for tri in lst_triangulos:\n",
    "\n",
    "        pt1 = (tri[0],tri[1])\n",
    "        pt2 = (tri[2],tri[3])\n",
    "        pt3 = (tri[4],tri[5])\n",
    "\n",
    "        if rect_contains(rect,pt1) and rect_contains(rect,pt2) and rect_contains(rect,pt3):\n",
    "\n",
    "            cv.line(img,pt1,pt2,(32,201,66),1,cv.LINE_AA,0)\n",
    "            cv.line(img,pt2,pt3,(32,201,66),1,cv.LINE_AA,0)\n",
    "            cv.line(img,pt3,pt1,(32,201,66),1,cv.LINE_AA,0)\n",
    "\n",
    "def draw_voronoi(img, subdiv) :\n",
    "\n",
    "    ( facets, centers) = subdiv.getVoronoiFacetList([])\n",
    "\n",
    "    for i in range(0,len(facets)) :\n",
    "        ifacet_arr = []\n",
    "        for f in facets[i] :\n",
    "            ifacet_arr.append(f)\n",
    "\n",
    "        ifacet = np.array(ifacet_arr, np.int)\n",
    "        color = (np.random.randint(0, 255), np.random.randint(0, 255), np.random.randint(0, 255))\n",
    "        cv.fillConvexPoly(img, ifacet, color, cv.LINE_AA, 0);\n",
    "        ifacets = np.array([ifacet])\n",
    "        cv.polylines(img, ifacets, True, (0, 0, 0), 1, cv.LINE_AA, 0)\n",
    "        #cv.circle(img, (centers[i][0], centers[i][1]), 3, (0, 0, 0), cv.FILLED, cv.LINE_AA, 0)\n",
    "        \n",
    "def desenha_manual():\n",
    "    subdiv  = cv.Subdiv2D(rect)\n",
    "    global points\n",
    "    cv.namedWindow('ROI')\n",
    "    cv.setMouseCallback('ROI',draw_cricle)\n",
    "    while True:\n",
    "        cv.imshow('ROI',imagem_original)\n",
    "        key = cv.waitKey()  \n",
    "        if key == ord('q'):\n",
    "            cv.destroyWindow('ROI')\n",
    "            break\n",
    "    for p in points:\n",
    "        subdiv.insert(p)\n",
    "    \n",
    "    return subdiv\n",
    "    \n",
    "def desenha_automatico(treshX,treshY):\n",
    "    subdiv  = cv.Subdiv2D(rect)\n",
    "    imagem_canny = cv.Canny(imagem_cinza,treshX,treshY)\n",
    "    contours,_ = cv.findContours(imagem_canny,cv.RETR_LIST,cv.CHAIN_APPROX_SIMPLE)\n",
    "    for contorno in contours:\n",
    "        x,y = contorno[0][0]\n",
    "        subdiv.insert((x,y))\n",
    "    return subdiv,imagem_canny"
   ]
  },
  {
   "cell_type": "code",
   "execution_count": 54,
   "id": "3c7247ad",
   "metadata": {},
   "outputs": [],
   "source": [
    "subdiv = desenha_manual()"
   ]
  },
  {
   "cell_type": "code",
   "execution_count": 71,
   "id": "ecf6db9f",
   "metadata": {},
   "outputs": [],
   "source": [
    "subdiv,imagem_canny = desenha_automatico(60,60)"
   ]
  },
  {
   "cell_type": "code",
   "execution_count": 72,
   "id": "471e9026",
   "metadata": {},
   "outputs": [
    {
     "name": "stderr",
     "output_type": "stream",
     "text": [
      "C:\\Users\\Heron\\AppData\\Local\\Temp/ipykernel_3868/1723950869.py:32: DeprecationWarning: an integer is required (got type numpy.float32).  Implicit conversion to integers using __int__ is deprecated, and may be removed in a future version of Python.\n",
      "  cv.line(img,pt1,pt2,(32,201,66),1,cv.LINE_AA,0)\n",
      "C:\\Users\\Heron\\AppData\\Local\\Temp/ipykernel_3868/1723950869.py:33: DeprecationWarning: an integer is required (got type numpy.float32).  Implicit conversion to integers using __int__ is deprecated, and may be removed in a future version of Python.\n",
      "  cv.line(img,pt2,pt3,(32,201,66),1,cv.LINE_AA,0)\n",
      "C:\\Users\\Heron\\AppData\\Local\\Temp/ipykernel_3868/1723950869.py:34: DeprecationWarning: an integer is required (got type numpy.float32).  Implicit conversion to integers using __int__ is deprecated, and may be removed in a future version of Python.\n",
      "  cv.line(img,pt3,pt1,(32,201,66),1,cv.LINE_AA,0)\n",
      "C:\\Users\\Heron\\AppData\\Local\\Temp/ipykernel_3868/1723950869.py:45: DeprecationWarning: `np.int` is a deprecated alias for the builtin `int`. To silence this warning, use `int` by itself. Doing this will not modify any behavior and is safe. When replacing `np.int`, you may wish to use e.g. `np.int64` or `np.int32` to specify the precision. If you wish to review your current use, check the release note link for additional information.\n",
      "Deprecated in NumPy 1.20; for more details and guidance: https://numpy.org/devdocs/release/1.20.0-notes.html#deprecations\n",
      "  ifacet = np.array(ifacet_arr, np.int)\n"
     ]
    }
   ],
   "source": [
    "imagem_triangulos = np.full(size,(0,0,0),np.uint8)\n",
    "imagem_vitral = np.full(size,(0,0,0),np.uint8)\n",
    "\n",
    "draw_triangles(imagem_triangulos,subdiv)\n",
    "draw_voronoi(imagem_vitral,subdiv)\n",
    "\n",
    "cv.imshow('Triangles',imagem_triangulos)\n",
    "cv.imshow('Vitral',imagem_vitral)\n",
    "cv.imshow('Canny',imagem_canny)\n",
    "cv.waitKey()\n",
    "cv.destroyAllWindows()"
   ]
  },
  {
   "cell_type": "code",
   "execution_count": 67,
   "id": "314722f5",
   "metadata": {},
   "outputs": [
    {
     "data": {
      "text/plain": [
       "True"
      ]
     },
     "execution_count": 67,
     "metadata": {},
     "output_type": "execute_result"
    }
   ],
   "source": [
    "cv.imwrite('EU_tri.jpg',imagem_triangulos)\n",
    "cv.imwrite('EU_vitral.jpg',imagem_vitral)\n",
    "#cv.imwrite('amanda_canny.jpg',imagem_canny)"
   ]
  },
  {
   "cell_type": "code",
   "execution_count": null,
   "id": "33ab466c",
   "metadata": {},
   "outputs": [],
   "source": []
  }
 ],
 "metadata": {
  "kernelspec": {
   "display_name": "Python 3 (ipykernel)",
   "language": "python",
   "name": "python3"
  },
  "language_info": {
   "codemirror_mode": {
    "name": "ipython",
    "version": 3
   },
   "file_extension": ".py",
   "mimetype": "text/x-python",
   "name": "python",
   "nbconvert_exporter": "python",
   "pygments_lexer": "ipython3",
   "version": "3.9.6"
  }
 },
 "nbformat": 4,
 "nbformat_minor": 5
}
